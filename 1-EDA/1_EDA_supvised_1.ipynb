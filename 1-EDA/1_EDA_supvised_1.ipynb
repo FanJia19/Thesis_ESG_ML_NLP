{
 "cells": [
  {
   "cell_type": "code",
   "execution_count": 24,
   "metadata": {},
   "outputs": [],
   "source": [
    "# Basic Libraries\n",
    "import pandas as pd\n",
    "import numpy as np\n",
    "from sklearn.preprocessing import OneHotEncoder\n",
    "\n",
    "# Plot Libraries\n",
    "import matplotlib.pyplot as plt\n",
    "import seaborn as sns\n",
    "from IPython.display import set_matplotlib_formats\n"
   ]
  },
  {
   "cell_type": "markdown",
   "metadata": {},
   "source": [
    "# **1.Load Data**"
   ]
  },
  {
   "cell_type": "code",
   "execution_count": 25,
   "metadata": {},
   "outputs": [
    {
     "name": "stdout",
     "output_type": "stream",
     "text": [
      "Excel filex 'CompanyListESG.xlsx' contains 3 sheets: ['NorthAmeric', 'APAC', 'Europe']\n",
      "Reading sheet NorthAmeric into df with a shape: (3201, 12)\n",
      "Reading sheet APAC into df with a shape: (2611, 12)\n",
      "Reading sheet Europe into df with a shape: (2471, 12)\n",
      "The shape of the final df: (8283, 12)\n"
     ]
    }
   ],
   "source": [
    "def func_xlsx_to_df(excel_file):\n",
    "   \n",
    "    # Read xlsx sheets and get the sheet names\n",
    "    # Make sure column names are the same across all sheets in excel!!!\n",
    "    xlsx = pd.ExcelFile(excel_file) \n",
    "    print(f\"Excel filex '{excel_file}' contains {len(xlsx.sheet_names)} sheets: {xlsx.sheet_names}\")\n",
    "\n",
    "    # Turn xlsx sheet to df and contatenate all DFs to one df\n",
    "    df = pd.DataFrame()\n",
    "    for name in xlsx.sheet_names:\n",
    "        #【Handling Missing Value】: \"N.S.\" & \"N/A\" has corectly captured all the NaN valus across all columns.\n",
    "        # However, 4th score has 0 as NaN thus no way to separate real NaN and 0 valus so treat all 0 as NaN.\n",
    "        # But for 5th score 0 really means 0 score so has to keep!\n",
    "        # Therefore, in this step we don't cound 0 as NaN in 'na_values' list, but process 4th score's 0 later.\n",
    "        # Columns from 3 sheets appear 3 times so combined df has -3 rows\n",
    "        sheet_to_df = pd.read_excel(excel_file, \n",
    "                                    sheet_name = name,\n",
    "                                    na_values=[\"N.S.\", \"N/A\", \" \"])\n",
    "        sheet_to_df.insert(2,'Region',name)\n",
    "        print(f\"Reading sheet {name} into df with a shape:\", sheet_to_df.shape)\n",
    "        \n",
    "        # Append new sheet as df into exsting df\n",
    "        df = pd.concat([df, sheet_to_df], ignore_index=True, axis=0)\n",
    "    \n",
    "    return df\n",
    "        \n",
    "df = func_xlsx_to_df(\"CompanyListESG.xlsx\")\n",
    "print(\"The shape of the final df:\", df.shape)"
   ]
  },
  {
   "cell_type": "markdown",
   "metadata": {},
   "source": [
    "# **2.Data Processing & EDA**"
   ]
  },
  {
   "cell_type": "code",
   "execution_count": 26,
   "metadata": {},
   "outputs": [
    {
     "name": "stdout",
     "output_type": "stream",
     "text": [
      "<class 'pandas.core.frame.DataFrame'>\n",
      "Int64Index: 8282 entries, 0 to 8282\n",
      "Data columns (total 12 columns):\n",
      " #   Column     Non-Null Count  Dtype  \n",
      "---  ------     --------------  -----  \n",
      " 0   Ticker     8281 non-null   object \n",
      " 1   Name       8282 non-null   object \n",
      " 2   Region     8282 non-null   object \n",
      " 3   Country    8281 non-null   object \n",
      " 4   Sector     8166 non-null   object \n",
      " 5   Industry   8166 non-null   object \n",
      " 6   SubInd     8166 non-null   object \n",
      " 7   Scr_Blmbg  2547 non-null   float64\n",
      " 8   Scr_MSCI   2135 non-null   float64\n",
      " 9   Scr_ESGS   956 non-null    float64\n",
      " 10  Scr_SERS   2170 non-null   float64\n",
      " 11  Scr_S_P    5985 non-null   float64\n",
      "dtypes: float64(5), object(7)\n",
      "memory usage: 841.1+ KB\n"
     ]
    }
   ],
   "source": [
    "def data_cleaning(df, build_classifier=False):\n",
    "    # Use abbreviations to rename agency score names\n",
    "    df = df.rename({\"Cntry Terrtry Fl Name\": \"Country\",\n",
    "                    \"GICS Sector\": \"Sector\",\n",
    "                    \"GICS Ind Name\": \"Industry\",\n",
    "                    \"GICS SubInd Name\": \"SubInd\",\n",
    "                    \"Bloomberg Disclosure Score\": \"Scr_Blmbg\", \n",
    "                    \"MSCI ESG Rtg\": \"Scr_MSCI\",\n",
    "                    \"ESG Score\": \"Scr_ESGS\",\n",
    "                    \"Sustainalytics ESG Risk Score\": \"Scr_SERS\",\n",
    "                    \"S&P RobecoSAM Tot Sustain Rnk\": \"Scr_S_P\"\n",
    "                    }, axis=1) \n",
    "\n",
    "    #【Handling Missing Value】: As mentioned above -- turn all 0 valus to NaN for 4th score\n",
    "    df[\"Scr_SERS\"] = df[\"Scr_SERS\"].replace(0, np.nan)\n",
    "\n",
    "    # Drop the only row which contain -1 for the 5th score - 只能run一次!!!\n",
    "    df.drop(df[df[\"Scr_S_P\"] == -1].index, inplace=True)\n",
    "    \n",
    "    # Give MCSI rating levels numerical representations\n",
    "    MSCI_map = {\"AAA\":7, \"AA\":6, \"A\":5,\"BBB\":4, \"BB\":3, \"B\":2,\"CCC\":1}\n",
    "    df[\"Scr_MSCI\"] = df[\"Scr_MSCI\"].replace(MSCI_map)\n",
    "    \n",
    "    \n",
    "    return df\n",
    "\n",
    "df = data_cleaning(df,build_classifier=False)\n",
    "df.info()"
   ]
  },
  {
   "cell_type": "code",
   "execution_count": 27,
   "metadata": {},
   "outputs": [
    {
     "data": {
      "text/plain": [
       "Ticker          1\n",
       "Name            0\n",
       "Region          0\n",
       "Country         1\n",
       "Sector        116\n",
       "Industry      116\n",
       "SubInd        116\n",
       "Scr_Blmbg    5735\n",
       "Scr_MSCI     6147\n",
       "Scr_ESGS     7326\n",
       "Scr_SERS     6112\n",
       "Scr_S_P      2297\n",
       "dtype: int64"
      ]
     },
     "execution_count": 27,
     "metadata": {},
     "output_type": "execute_result"
    }
   ],
   "source": [
    "# Check the number of NaN values in each column\n",
    "df.isnull().sum()"
   ]
  },
  {
   "cell_type": "code",
   "execution_count": 28,
   "metadata": {},
   "outputs": [
    {
     "data": {
      "text/plain": [
       "'----- Number of unique Countries:'"
      ]
     },
     "metadata": {},
     "output_type": "display_data"
    },
    {
     "data": {
      "text/plain": [
       "68"
      ]
     },
     "metadata": {},
     "output_type": "display_data"
    },
    {
     "data": {
      "text/plain": [
       "'----- Number of unique values in each Region:'"
      ]
     },
     "metadata": {},
     "output_type": "display_data"
    },
    {
     "data": {
      "text/plain": [
       "NorthAmeric    3200\n",
       "APAC           2611\n",
       "Europe         2471\n",
       "Name: Region, dtype: int64"
      ]
     },
     "metadata": {},
     "output_type": "display_data"
    },
    {
     "data": {
      "text/plain": [
       "'----- Number of unique values in each Sector:'"
      ]
     },
     "metadata": {},
     "output_type": "display_data"
    },
    {
     "data": {
      "text/plain": [
       "Industrials               1361\n",
       "Financials                1072\n",
       "Information Technology     992\n",
       "Consumer Discretionary     975\n",
       "Health Care                873\n",
       "Materials                  644\n",
       "Real Estate                641\n",
       "Consumer Staples           499\n",
       "Communication Services     424\n",
       "Energy                     374\n",
       "Utilities                  311\n",
       "Name: Sector, dtype: int64"
      ]
     },
     "metadata": {},
     "output_type": "display_data"
    },
    {
     "data": {
      "text/plain": [
       "'----- Number of unique Industries:'"
      ]
     },
     "metadata": {},
     "output_type": "display_data"
    },
    {
     "data": {
      "text/plain": [
       "70"
      ]
     },
     "metadata": {},
     "output_type": "display_data"
    }
   ],
   "source": [
    "# Check unique values in important columns\n",
    "display(\"----- Number of unique Countries:\", len(df[\"Country\"].unique()))\n",
    "display(\"----- Number of unique values in each Region:\", df[\"Region\"].value_counts())\n",
    "display(\"----- Number of unique values in each Sector:\", df[\"Sector\"].value_counts())\n",
    "display(\"----- Number of unique Industries:\", len(df[\"Industry\"].unique()))"
   ]
  },
  {
   "cell_type": "code",
   "execution_count": 29,
   "metadata": {},
   "outputs": [
    {
     "data": {
      "text/html": [
       "<div>\n",
       "<style scoped>\n",
       "    .dataframe tbody tr th:only-of-type {\n",
       "        vertical-align: middle;\n",
       "    }\n",
       "\n",
       "    .dataframe tbody tr th {\n",
       "        vertical-align: top;\n",
       "    }\n",
       "\n",
       "    .dataframe thead th {\n",
       "        text-align: right;\n",
       "    }\n",
       "</style>\n",
       "<table border=\"1\" class=\"dataframe\">\n",
       "  <thead>\n",
       "    <tr style=\"text-align: right;\">\n",
       "      <th></th>\n",
       "      <th>Scr_Blmbg</th>\n",
       "      <th>Scr_MSCI</th>\n",
       "      <th>Scr_ESGS</th>\n",
       "      <th>Scr_SERS</th>\n",
       "      <th>Scr_S_P</th>\n",
       "    </tr>\n",
       "  </thead>\n",
       "  <tbody>\n",
       "    <tr>\n",
       "      <th>count</th>\n",
       "      <td>2547.000000</td>\n",
       "      <td>2135.000000</td>\n",
       "      <td>956.000000</td>\n",
       "      <td>2170.000000</td>\n",
       "      <td>5985.000000</td>\n",
       "    </tr>\n",
       "    <tr>\n",
       "      <th>mean</th>\n",
       "      <td>42.670173</td>\n",
       "      <td>4.554098</td>\n",
       "      <td>3.960157</td>\n",
       "      <td>23.382674</td>\n",
       "      <td>46.100752</td>\n",
       "    </tr>\n",
       "    <tr>\n",
       "      <th>std</th>\n",
       "      <td>13.480888</td>\n",
       "      <td>1.450124</td>\n",
       "      <td>1.346192</td>\n",
       "      <td>8.116823</td>\n",
       "      <td>27.337654</td>\n",
       "    </tr>\n",
       "    <tr>\n",
       "      <th>min</th>\n",
       "      <td>6.920800</td>\n",
       "      <td>1.000000</td>\n",
       "      <td>1.050000</td>\n",
       "      <td>5.438800</td>\n",
       "      <td>0.000000</td>\n",
       "    </tr>\n",
       "    <tr>\n",
       "      <th>25%</th>\n",
       "      <td>33.057800</td>\n",
       "      <td>4.000000</td>\n",
       "      <td>2.890000</td>\n",
       "      <td>17.345425</td>\n",
       "      <td>23.000000</td>\n",
       "    </tr>\n",
       "    <tr>\n",
       "      <th>50%</th>\n",
       "      <td>43.406100</td>\n",
       "      <td>5.000000</td>\n",
       "      <td>3.945000</td>\n",
       "      <td>22.426450</td>\n",
       "      <td>43.000000</td>\n",
       "    </tr>\n",
       "    <tr>\n",
       "      <th>75%</th>\n",
       "      <td>52.469600</td>\n",
       "      <td>6.000000</td>\n",
       "      <td>4.992500</td>\n",
       "      <td>28.229950</td>\n",
       "      <td>68.000000</td>\n",
       "    </tr>\n",
       "    <tr>\n",
       "      <th>max</th>\n",
       "      <td>78.804900</td>\n",
       "      <td>7.000000</td>\n",
       "      <td>7.530000</td>\n",
       "      <td>59.247300</td>\n",
       "      <td>100.000000</td>\n",
       "    </tr>\n",
       "  </tbody>\n",
       "</table>\n",
       "</div>"
      ],
      "text/plain": [
       "         Scr_Blmbg     Scr_MSCI    Scr_ESGS     Scr_SERS      Scr_S_P\n",
       "count  2547.000000  2135.000000  956.000000  2170.000000  5985.000000\n",
       "mean     42.670173     4.554098    3.960157    23.382674    46.100752\n",
       "std      13.480888     1.450124    1.346192     8.116823    27.337654\n",
       "min       6.920800     1.000000    1.050000     5.438800     0.000000\n",
       "25%      33.057800     4.000000    2.890000    17.345425    23.000000\n",
       "50%      43.406100     5.000000    3.945000    22.426450    43.000000\n",
       "75%      52.469600     6.000000    4.992500    28.229950    68.000000\n",
       "max      78.804900     7.000000    7.530000    59.247300   100.000000"
      ]
     },
     "metadata": {},
     "output_type": "display_data"
    }
   ],
   "source": [
    "# Check the distribution of each ESG score\n",
    "display(df.describe())"
   ]
  },
  {
   "cell_type": "code",
   "execution_count": 30,
   "metadata": {},
   "outputs": [
    {
     "data": {
      "text/plain": [
       "Ticker       193\n",
       "Name         193\n",
       "Region       193\n",
       "Country      193\n",
       "Sector       193\n",
       "Industry     193\n",
       "SubInd       193\n",
       "Scr_Blmbg    193\n",
       "Scr_MSCI     193\n",
       "Scr_ESGS     193\n",
       "Scr_SERS     193\n",
       "Scr_S_P      193\n",
       "dtype: int64"
      ]
     },
     "execution_count": 30,
     "metadata": {},
     "output_type": "execute_result"
    }
   ],
   "source": [
    "# Find the number of rows that have all 5 scores!!!\n",
    "df[(~df[\"Scr_Blmbg\"].isnull() \n",
    "    & ~df[\"Scr_MSCI\"].isnull()\n",
    "    & ~df[\"Scr_ESGS\"].isnull()\n",
    "    & ~df[\"Scr_SERS\"].isnull()\n",
    "    & ~df[\"Scr_S_P\"].isnull())].count()"
   ]
  },
  {
   "cell_type": "code",
   "execution_count": 31,
   "metadata": {},
   "outputs": [
    {
     "data": {
      "image/svg+xml": "<?xml version=\"1.0\" encoding=\"utf-8\" standalone=\"no\"?>\n<!DOCTYPE svg PUBLIC \"-//W3C//DTD SVG 1.1//EN\"\n  \"http://www.w3.org/Graphics/SVG/1.1/DTD/svg11.dtd\">\n<svg height=\"317.633562pt\" version=\"1.1\" viewBox=\"0 0 425.508244 317.633562\" width=\"425.508244pt\" xmlns=\"http://www.w3.org/2000/svg\" xmlns:xlink=\"http://www.w3.org/1999/xlink\">\n <metadata>\n  <rdf:RDF xmlns:cc=\"http://creativecommons.org/ns#\" xmlns:dc=\"http://purl.org/dc/elements/1.1/\" xmlns:rdf=\"http://www.w3.org/1999/02/22-rdf-syntax-ns#\">\n   <cc:Work>\n    <dc:type rdf:resource=\"http://purl.org/dc/dcmitype/StillImage\"/>\n    <dc:date>2022-04-18T19:42:55.954836</dc:date>\n    <dc:format>image/svg+xml</dc:format>\n    <dc:creator>\n     <cc:Agent>\n      <dc:title>Matplotlib v3.4.3, https://matplotlib.org/</dc:title>\n     </cc:Agent>\n    </dc:creator>\n   </cc:Work>\n  </rdf:RDF>\n </metadata>\n <defs>\n  <style type=\"text/css\">*{stroke-linecap:butt;stroke-linejoin:round;}</style>\n </defs>\n <g id=\"figure_1\">\n  <g id=\"patch_1\">\n   <path d=\"M 0 317.633562 \nL 425.508244 317.633562 \nL 425.508244 0 \nL 0 0 \nz\n\" style=\"fill:#ffffff;\"/>\n  </g>\n  <g id=\"axes_1\">\n   <g id=\"patch_2\">\n    <path d=\"M 70.495156 290.61075 \nL 356.191156 290.61075 \nL 356.191156 29.68275 \nL 70.495156 29.68275 \nz\n\" style=\"fill:#eaeaf2;\"/>\n   </g>\n   <g id=\"matplotlib.axis_1\">\n    <g id=\"xtick_1\">\n     <g id=\"text_1\">\n      <!-- Scr_Blmbg -->\n      <g style=\"fill:#262626;\" transform=\"translate(72.167178 308.118406)scale(0.11 -0.11)\">\n       <defs>\n        <path d=\"M 288 1472 \nL 859 1522 \nQ 900 1178 1048 958 \nQ 1197 738 1509 602 \nQ 1822 466 2213 466 \nQ 2559 466 2825 569 \nQ 3091 672 3220 851 \nQ 3350 1031 3350 1244 \nQ 3350 1459 3225 1620 \nQ 3100 1781 2813 1891 \nQ 2628 1963 1997 2114 \nQ 1366 2266 1113 2400 \nQ 784 2572 623 2826 \nQ 463 3081 463 3397 \nQ 463 3744 659 4045 \nQ 856 4347 1234 4503 \nQ 1613 4659 2075 4659 \nQ 2584 4659 2973 4495 \nQ 3363 4331 3572 4012 \nQ 3781 3694 3797 3291 \nL 3216 3247 \nQ 3169 3681 2898 3903 \nQ 2628 4125 2100 4125 \nQ 1550 4125 1298 3923 \nQ 1047 3722 1047 3438 \nQ 1047 3191 1225 3031 \nQ 1400 2872 2139 2705 \nQ 2878 2538 3153 2413 \nQ 3553 2228 3743 1945 \nQ 3934 1663 3934 1294 \nQ 3934 928 3725 604 \nQ 3516 281 3123 101 \nQ 2731 -78 2241 -78 \nQ 1619 -78 1198 103 \nQ 778 284 539 648 \nQ 300 1013 288 1472 \nz\n\" id=\"ArialMT-53\" transform=\"scale(0.015625)\"/>\n        <path d=\"M 2588 1216 \nL 3141 1144 \nQ 3050 572 2676 248 \nQ 2303 -75 1759 -75 \nQ 1078 -75 664 370 \nQ 250 816 250 1647 \nQ 250 2184 428 2587 \nQ 606 2991 970 3192 \nQ 1334 3394 1763 3394 \nQ 2303 3394 2647 3120 \nQ 2991 2847 3088 2344 \nL 2541 2259 \nQ 2463 2594 2264 2762 \nQ 2066 2931 1784 2931 \nQ 1359 2931 1093 2626 \nQ 828 2322 828 1663 \nQ 828 994 1084 691 \nQ 1341 388 1753 388 \nQ 2084 388 2306 591 \nQ 2528 794 2588 1216 \nz\n\" id=\"ArialMT-63\" transform=\"scale(0.015625)\"/>\n        <path d=\"M 416 0 \nL 416 3319 \nL 922 3319 \nL 922 2816 \nQ 1116 3169 1280 3281 \nQ 1444 3394 1641 3394 \nQ 1925 3394 2219 3213 \nL 2025 2691 \nQ 1819 2813 1613 2813 \nQ 1428 2813 1281 2702 \nQ 1134 2591 1072 2394 \nQ 978 2094 978 1738 \nL 978 0 \nL 416 0 \nz\n\" id=\"ArialMT-72\" transform=\"scale(0.015625)\"/>\n        <path d=\"M -97 -1272 \nL -97 -866 \nL 3631 -866 \nL 3631 -1272 \nL -97 -1272 \nz\n\" id=\"ArialMT-5f\" transform=\"scale(0.015625)\"/>\n        <path d=\"M 469 0 \nL 469 4581 \nL 2188 4581 \nQ 2713 4581 3030 4442 \nQ 3347 4303 3526 4014 \nQ 3706 3725 3706 3409 \nQ 3706 3116 3547 2856 \nQ 3388 2597 3066 2438 \nQ 3481 2316 3704 2022 \nQ 3928 1728 3928 1328 \nQ 3928 1006 3792 729 \nQ 3656 453 3456 303 \nQ 3256 153 2954 76 \nQ 2653 0 2216 0 \nL 469 0 \nz\nM 1075 2656 \nL 2066 2656 \nQ 2469 2656 2644 2709 \nQ 2875 2778 2992 2937 \nQ 3109 3097 3109 3338 \nQ 3109 3566 3000 3739 \nQ 2891 3913 2687 3977 \nQ 2484 4041 1991 4041 \nL 1075 4041 \nL 1075 2656 \nz\nM 1075 541 \nL 2216 541 \nQ 2509 541 2628 563 \nQ 2838 600 2978 687 \nQ 3119 775 3209 942 \nQ 3300 1109 3300 1328 \nQ 3300 1584 3169 1773 \nQ 3038 1963 2805 2039 \nQ 2572 2116 2134 2116 \nL 1075 2116 \nL 1075 541 \nz\n\" id=\"ArialMT-42\" transform=\"scale(0.015625)\"/>\n        <path d=\"M 409 0 \nL 409 4581 \nL 972 4581 \nL 972 0 \nL 409 0 \nz\n\" id=\"ArialMT-6c\" transform=\"scale(0.015625)\"/>\n        <path d=\"M 422 0 \nL 422 3319 \nL 925 3319 \nL 925 2853 \nQ 1081 3097 1340 3245 \nQ 1600 3394 1931 3394 \nQ 2300 3394 2536 3241 \nQ 2772 3088 2869 2813 \nQ 3263 3394 3894 3394 \nQ 4388 3394 4653 3120 \nQ 4919 2847 4919 2278 \nL 4919 0 \nL 4359 0 \nL 4359 2091 \nQ 4359 2428 4304 2576 \nQ 4250 2725 4106 2815 \nQ 3963 2906 3769 2906 \nQ 3419 2906 3187 2673 \nQ 2956 2441 2956 1928 \nL 2956 0 \nL 2394 0 \nL 2394 2156 \nQ 2394 2531 2256 2718 \nQ 2119 2906 1806 2906 \nQ 1569 2906 1367 2781 \nQ 1166 2656 1075 2415 \nQ 984 2175 984 1722 \nL 984 0 \nL 422 0 \nz\n\" id=\"ArialMT-6d\" transform=\"scale(0.015625)\"/>\n        <path d=\"M 941 0 \nL 419 0 \nL 419 4581 \nL 981 4581 \nL 981 2947 \nQ 1338 3394 1891 3394 \nQ 2197 3394 2470 3270 \nQ 2744 3147 2920 2923 \nQ 3097 2700 3197 2384 \nQ 3297 2069 3297 1709 \nQ 3297 856 2875 390 \nQ 2453 -75 1863 -75 \nQ 1275 -75 941 416 \nL 941 0 \nz\nM 934 1684 \nQ 934 1088 1097 822 \nQ 1363 388 1816 388 \nQ 2184 388 2453 708 \nQ 2722 1028 2722 1663 \nQ 2722 2313 2464 2622 \nQ 2206 2931 1841 2931 \nQ 1472 2931 1203 2611 \nQ 934 2291 934 1684 \nz\n\" id=\"ArialMT-62\" transform=\"scale(0.015625)\"/>\n        <path d=\"M 319 -275 \nL 866 -356 \nQ 900 -609 1056 -725 \nQ 1266 -881 1628 -881 \nQ 2019 -881 2231 -725 \nQ 2444 -569 2519 -288 \nQ 2563 -116 2559 434 \nQ 2191 0 1641 0 \nQ 956 0 581 494 \nQ 206 988 206 1678 \nQ 206 2153 378 2554 \nQ 550 2956 876 3175 \nQ 1203 3394 1644 3394 \nQ 2231 3394 2613 2919 \nL 2613 3319 \nL 3131 3319 \nL 3131 450 \nQ 3131 -325 2973 -648 \nQ 2816 -972 2473 -1159 \nQ 2131 -1347 1631 -1347 \nQ 1038 -1347 672 -1080 \nQ 306 -813 319 -275 \nz\nM 784 1719 \nQ 784 1066 1043 766 \nQ 1303 466 1694 466 \nQ 2081 466 2343 764 \nQ 2606 1063 2606 1700 \nQ 2606 2309 2336 2618 \nQ 2066 2928 1684 2928 \nQ 1309 2928 1046 2623 \nQ 784 2319 784 1719 \nz\n\" id=\"ArialMT-67\" transform=\"scale(0.015625)\"/>\n       </defs>\n       <use xlink:href=\"#ArialMT-53\"/>\n       <use x=\"66.699219\" xlink:href=\"#ArialMT-63\"/>\n       <use x=\"116.699219\" xlink:href=\"#ArialMT-72\"/>\n       <use x=\"150\" xlink:href=\"#ArialMT-5f\"/>\n       <use x=\"205.615234\" xlink:href=\"#ArialMT-42\"/>\n       <use x=\"272.314453\" xlink:href=\"#ArialMT-6c\"/>\n       <use x=\"294.53125\" xlink:href=\"#ArialMT-6d\"/>\n       <use x=\"377.832031\" xlink:href=\"#ArialMT-62\"/>\n       <use x=\"433.447266\" xlink:href=\"#ArialMT-67\"/>\n      </g>\n     </g>\n    </g>\n    <g id=\"xtick_2\">\n     <g id=\"text_2\">\n      <!-- Scr_MSCI -->\n      <g style=\"fill:#262626;\" transform=\"translate(131.145441 308.118406)scale(0.11 -0.11)\">\n       <defs>\n        <path d=\"M 475 0 \nL 475 4581 \nL 1388 4581 \nL 2472 1338 \nQ 2622 884 2691 659 \nQ 2769 909 2934 1394 \nL 4031 4581 \nL 4847 4581 \nL 4847 0 \nL 4263 0 \nL 4263 3834 \nL 2931 0 \nL 2384 0 \nL 1059 3900 \nL 1059 0 \nL 475 0 \nz\n\" id=\"ArialMT-4d\" transform=\"scale(0.015625)\"/>\n        <path d=\"M 3763 1606 \nL 4369 1453 \nQ 4178 706 3683 314 \nQ 3188 -78 2472 -78 \nQ 1731 -78 1267 223 \nQ 803 525 561 1097 \nQ 319 1669 319 2325 \nQ 319 3041 592 3573 \nQ 866 4106 1370 4382 \nQ 1875 4659 2481 4659 \nQ 3169 4659 3637 4309 \nQ 4106 3959 4291 3325 \nL 3694 3184 \nQ 3534 3684 3231 3912 \nQ 2928 4141 2469 4141 \nQ 1941 4141 1586 3887 \nQ 1231 3634 1087 3207 \nQ 944 2781 944 2328 \nQ 944 1744 1114 1308 \nQ 1284 872 1643 656 \nQ 2003 441 2422 441 \nQ 2931 441 3284 734 \nQ 3638 1028 3763 1606 \nz\n\" id=\"ArialMT-43\" transform=\"scale(0.015625)\"/>\n        <path d=\"M 597 0 \nL 597 4581 \nL 1203 4581 \nL 1203 0 \nL 597 0 \nz\n\" id=\"ArialMT-49\" transform=\"scale(0.015625)\"/>\n       </defs>\n       <use xlink:href=\"#ArialMT-53\"/>\n       <use x=\"66.699219\" xlink:href=\"#ArialMT-63\"/>\n       <use x=\"116.699219\" xlink:href=\"#ArialMT-72\"/>\n       <use x=\"150\" xlink:href=\"#ArialMT-5f\"/>\n       <use x=\"205.615234\" xlink:href=\"#ArialMT-4d\"/>\n       <use x=\"288.916016\" xlink:href=\"#ArialMT-53\"/>\n       <use x=\"355.615234\" xlink:href=\"#ArialMT-43\"/>\n       <use x=\"427.832031\" xlink:href=\"#ArialMT-49\"/>\n      </g>\n     </g>\n    </g>\n    <g id=\"xtick_3\">\n     <g id=\"text_3\">\n      <!-- Scr_ESGS -->\n      <g style=\"fill:#262626;\" transform=\"translate(186.750656 308.118406)scale(0.11 -0.11)\">\n       <defs>\n        <path d=\"M 506 0 \nL 506 4581 \nL 3819 4581 \nL 3819 4041 \nL 1113 4041 \nL 1113 2638 \nL 3647 2638 \nL 3647 2100 \nL 1113 2100 \nL 1113 541 \nL 3925 541 \nL 3925 0 \nL 506 0 \nz\n\" id=\"ArialMT-45\" transform=\"scale(0.015625)\"/>\n        <path d=\"M 2638 1797 \nL 2638 2334 \nL 4578 2338 \nL 4578 638 \nQ 4131 281 3656 101 \nQ 3181 -78 2681 -78 \nQ 2006 -78 1454 211 \nQ 903 500 622 1047 \nQ 341 1594 341 2269 \nQ 341 2938 620 3517 \nQ 900 4097 1425 4378 \nQ 1950 4659 2634 4659 \nQ 3131 4659 3532 4498 \nQ 3934 4338 4162 4050 \nQ 4391 3763 4509 3300 \nL 3963 3150 \nQ 3859 3500 3706 3700 \nQ 3553 3900 3268 4020 \nQ 2984 4141 2638 4141 \nQ 2222 4141 1919 4014 \nQ 1616 3888 1430 3681 \nQ 1244 3475 1141 3228 \nQ 966 2803 966 2306 \nQ 966 1694 1177 1281 \nQ 1388 869 1791 669 \nQ 2194 469 2647 469 \nQ 3041 469 3416 620 \nQ 3791 772 3984 944 \nL 3984 1797 \nL 2638 1797 \nz\n\" id=\"ArialMT-47\" transform=\"scale(0.015625)\"/>\n       </defs>\n       <use xlink:href=\"#ArialMT-53\"/>\n       <use x=\"66.699219\" xlink:href=\"#ArialMT-63\"/>\n       <use x=\"116.699219\" xlink:href=\"#ArialMT-72\"/>\n       <use x=\"150\" xlink:href=\"#ArialMT-5f\"/>\n       <use x=\"205.615234\" xlink:href=\"#ArialMT-45\"/>\n       <use x=\"272.314453\" xlink:href=\"#ArialMT-53\"/>\n       <use x=\"339.013672\" xlink:href=\"#ArialMT-47\"/>\n       <use x=\"416.796875\" xlink:href=\"#ArialMT-53\"/>\n      </g>\n     </g>\n    </g>\n    <g id=\"xtick_4\">\n     <g id=\"text_4\">\n      <!-- Scr_SERS -->\n      <g style=\"fill:#262626;\" transform=\"translate(244.195794 308.118406)scale(0.11 -0.11)\">\n       <defs>\n        <path d=\"M 503 0 \nL 503 4581 \nL 2534 4581 \nQ 3147 4581 3465 4457 \nQ 3784 4334 3975 4021 \nQ 4166 3709 4166 3331 \nQ 4166 2844 3850 2509 \nQ 3534 2175 2875 2084 \nQ 3116 1969 3241 1856 \nQ 3506 1613 3744 1247 \nL 4541 0 \nL 3778 0 \nL 3172 953 \nQ 2906 1366 2734 1584 \nQ 2563 1803 2427 1890 \nQ 2291 1978 2150 2013 \nQ 2047 2034 1813 2034 \nL 1109 2034 \nL 1109 0 \nL 503 0 \nz\nM 1109 2559 \nL 2413 2559 \nQ 2828 2559 3062 2645 \nQ 3297 2731 3419 2920 \nQ 3541 3109 3541 3331 \nQ 3541 3656 3305 3865 \nQ 3069 4075 2559 4075 \nL 1109 4075 \nL 1109 2559 \nz\n\" id=\"ArialMT-52\" transform=\"scale(0.015625)\"/>\n       </defs>\n       <use xlink:href=\"#ArialMT-53\"/>\n       <use x=\"66.699219\" xlink:href=\"#ArialMT-63\"/>\n       <use x=\"116.699219\" xlink:href=\"#ArialMT-72\"/>\n       <use x=\"150\" xlink:href=\"#ArialMT-5f\"/>\n       <use x=\"205.615234\" xlink:href=\"#ArialMT-53\"/>\n       <use x=\"272.314453\" xlink:href=\"#ArialMT-45\"/>\n       <use x=\"339.013672\" xlink:href=\"#ArialMT-52\"/>\n       <use x=\"411.230469\" xlink:href=\"#ArialMT-53\"/>\n      </g>\n     </g>\n    </g>\n    <g id=\"xtick_5\">\n     <g id=\"text_5\">\n      <!-- Scr_S_P -->\n      <g style=\"fill:#262626;\" transform=\"translate(305.917181 308.118406)scale(0.11 -0.11)\">\n       <defs>\n        <path d=\"M 494 0 \nL 494 4581 \nL 2222 4581 \nQ 2678 4581 2919 4538 \nQ 3256 4481 3484 4323 \nQ 3713 4166 3852 3881 \nQ 3991 3597 3991 3256 \nQ 3991 2672 3619 2267 \nQ 3247 1863 2275 1863 \nL 1100 1863 \nL 1100 0 \nL 494 0 \nz\nM 1100 2403 \nL 2284 2403 \nQ 2872 2403 3119 2622 \nQ 3366 2841 3366 3238 \nQ 3366 3525 3220 3729 \nQ 3075 3934 2838 4000 \nQ 2684 4041 2272 4041 \nL 1100 4041 \nL 1100 2403 \nz\n\" id=\"ArialMT-50\" transform=\"scale(0.015625)\"/>\n       </defs>\n       <use xlink:href=\"#ArialMT-53\"/>\n       <use x=\"66.699219\" xlink:href=\"#ArialMT-63\"/>\n       <use x=\"116.699219\" xlink:href=\"#ArialMT-72\"/>\n       <use x=\"150\" xlink:href=\"#ArialMT-5f\"/>\n       <use x=\"205.615234\" xlink:href=\"#ArialMT-53\"/>\n       <use x=\"272.314453\" xlink:href=\"#ArialMT-5f\"/>\n       <use x=\"327.929688\" xlink:href=\"#ArialMT-50\"/>\n      </g>\n     </g>\n    </g>\n   </g>\n   <g id=\"matplotlib.axis_2\">\n    <g id=\"ytick_1\">\n     <g id=\"text_6\">\n      <!-- Scr_Blmbg -->\n      <g style=\"fill:#262626;\" transform=\"translate(7.2 58.6218)scale(0.11 -0.11)\">\n       <use xlink:href=\"#ArialMT-53\"/>\n       <use x=\"66.699219\" xlink:href=\"#ArialMT-63\"/>\n       <use x=\"116.699219\" xlink:href=\"#ArialMT-72\"/>\n       <use x=\"150\" xlink:href=\"#ArialMT-5f\"/>\n       <use x=\"205.615234\" xlink:href=\"#ArialMT-42\"/>\n       <use x=\"272.314453\" xlink:href=\"#ArialMT-6c\"/>\n       <use x=\"294.53125\" xlink:href=\"#ArialMT-6d\"/>\n       <use x=\"377.832031\" xlink:href=\"#ArialMT-62\"/>\n       <use x=\"433.447266\" xlink:href=\"#ArialMT-67\"/>\n      </g>\n     </g>\n    </g>\n    <g id=\"ytick_2\">\n     <g id=\"text_7\">\n      <!-- Scr_MSCI -->\n      <g style=\"fill:#262626;\" transform=\"translate(10.878125 110.871853)scale(0.11 -0.11)\">\n       <use xlink:href=\"#ArialMT-53\"/>\n       <use x=\"66.699219\" xlink:href=\"#ArialMT-63\"/>\n       <use x=\"116.699219\" xlink:href=\"#ArialMT-72\"/>\n       <use x=\"150\" xlink:href=\"#ArialMT-5f\"/>\n       <use x=\"205.615234\" xlink:href=\"#ArialMT-4d\"/>\n       <use x=\"288.916016\" xlink:href=\"#ArialMT-53\"/>\n       <use x=\"355.615234\" xlink:href=\"#ArialMT-43\"/>\n       <use x=\"427.832031\" xlink:href=\"#ArialMT-49\"/>\n      </g>\n     </g>\n    </g>\n    <g id=\"ytick_3\">\n     <g id=\"text_8\">\n      <!-- Scr_ESGS -->\n      <g style=\"fill:#262626;\" transform=\"translate(7.810156 163.057453)scale(0.11 -0.11)\">\n       <use xlink:href=\"#ArialMT-53\"/>\n       <use x=\"66.699219\" xlink:href=\"#ArialMT-63\"/>\n       <use x=\"116.699219\" xlink:href=\"#ArialMT-72\"/>\n       <use x=\"150\" xlink:href=\"#ArialMT-5f\"/>\n       <use x=\"205.615234\" xlink:href=\"#ArialMT-45\"/>\n       <use x=\"272.314453\" xlink:href=\"#ArialMT-53\"/>\n       <use x=\"339.013672\" xlink:href=\"#ArialMT-47\"/>\n       <use x=\"416.796875\" xlink:href=\"#ArialMT-53\"/>\n      </g>\n     </g>\n    </g>\n    <g id=\"ytick_4\">\n     <g id=\"text_9\">\n      <!-- Scr_SERS -->\n      <g style=\"fill:#262626;\" transform=\"translate(8.422031 215.243053)scale(0.11 -0.11)\">\n       <use xlink:href=\"#ArialMT-53\"/>\n       <use x=\"66.699219\" xlink:href=\"#ArialMT-63\"/>\n       <use x=\"116.699219\" xlink:href=\"#ArialMT-72\"/>\n       <use x=\"150\" xlink:href=\"#ArialMT-5f\"/>\n       <use x=\"205.615234\" xlink:href=\"#ArialMT-53\"/>\n       <use x=\"272.314453\" xlink:href=\"#ArialMT-45\"/>\n       <use x=\"339.013672\" xlink:href=\"#ArialMT-52\"/>\n       <use x=\"411.230469\" xlink:href=\"#ArialMT-53\"/>\n      </g>\n     </g>\n    </g>\n    <g id=\"ytick_5\">\n     <g id=\"text_10\">\n      <!-- Scr_S_P -->\n      <g style=\"fill:#262626;\" transform=\"translate(17.586406 267.428653)scale(0.11 -0.11)\">\n       <use xlink:href=\"#ArialMT-53\"/>\n       <use x=\"66.699219\" xlink:href=\"#ArialMT-63\"/>\n       <use x=\"116.699219\" xlink:href=\"#ArialMT-72\"/>\n       <use x=\"150\" xlink:href=\"#ArialMT-5f\"/>\n       <use x=\"205.615234\" xlink:href=\"#ArialMT-53\"/>\n       <use x=\"272.314453\" xlink:href=\"#ArialMT-5f\"/>\n       <use x=\"327.929688\" xlink:href=\"#ArialMT-50\"/>\n      </g>\n     </g>\n    </g>\n   </g>\n   <g id=\"QuadMesh_1\">\n    <path clip-path=\"url(#pbdbd33bf5b)\" d=\"M 70.495156 29.68275 \nL 127.634356 29.68275 \nL 127.634356 81.86835 \nL 70.495156 81.86835 \nL 70.495156 29.68275 \n\" style=\"fill:#faebdd;\"/>\n    <path clip-path=\"url(#pbdbd33bf5b)\" d=\"M 127.634356 29.68275 \nL 184.773556 29.68275 \nL 184.773556 81.86835 \nL 127.634356 81.86835 \nL 127.634356 29.68275 \n\" style=\"fill:#b71657;\"/>\n    <path clip-path=\"url(#pbdbd33bf5b)\" d=\"M 184.773556 29.68275 \nL 241.912756 29.68275 \nL 241.912756 81.86835 \nL 184.773556 81.86835 \nL 184.773556 29.68275 \n\" style=\"fill:#f37651;\"/>\n    <path clip-path=\"url(#pbdbd33bf5b)\" d=\"M 241.912756 29.68275 \nL 299.051956 29.68275 \nL 299.051956 81.86835 \nL 241.912756 81.86835 \nL 241.912756 29.68275 \n\" style=\"fill:#4c1d4b;\"/>\n    <path clip-path=\"url(#pbdbd33bf5b)\" d=\"M 299.051956 29.68275 \nL 356.191156 29.68275 \nL 356.191156 81.86835 \nL 299.051956 81.86835 \nL 299.051956 29.68275 \n\" style=\"fill:#f26f4c;\"/>\n    <path clip-path=\"url(#pbdbd33bf5b)\" d=\"M 70.495156 81.86835 \nL 127.634356 81.86835 \nL 127.634356 134.05395 \nL 70.495156 134.05395 \nL 70.495156 81.86835 \n\" style=\"fill:#b71657;\"/>\n    <path clip-path=\"url(#pbdbd33bf5b)\" d=\"M 127.634356 81.86835 \nL 184.773556 81.86835 \nL 184.773556 134.05395 \nL 127.634356 134.05395 \nL 127.634356 81.86835 \n\" style=\"fill:#faebdd;\"/>\n    <path clip-path=\"url(#pbdbd33bf5b)\" d=\"M 184.773556 81.86835 \nL 241.912756 81.86835 \nL 241.912756 134.05395 \nL 184.773556 134.05395 \nL 184.773556 81.86835 \n\" style=\"fill:#dd2c45;\"/>\n    <path clip-path=\"url(#pbdbd33bf5b)\" d=\"M 241.912756 81.86835 \nL 299.051956 81.86835 \nL 299.051956 134.05395 \nL 241.912756 134.05395 \nL 241.912756 81.86835 \n\" style=\"fill:#03051a;\"/>\n    <path clip-path=\"url(#pbdbd33bf5b)\" d=\"M 299.051956 81.86835 \nL 356.191156 81.86835 \nL 356.191156 134.05395 \nL 299.051956 134.05395 \nL 299.051956 81.86835 \n\" style=\"fill:#df2f44;\"/>\n    <path clip-path=\"url(#pbdbd33bf5b)\" d=\"M 70.495156 134.05395 \nL 127.634356 134.05395 \nL 127.634356 186.23955 \nL 70.495156 186.23955 \nL 70.495156 134.05395 \n\" style=\"fill:#f37651;\"/>\n    <path clip-path=\"url(#pbdbd33bf5b)\" d=\"M 127.634356 134.05395 \nL 184.773556 134.05395 \nL 184.773556 186.23955 \nL 127.634356 186.23955 \nL 127.634356 134.05395 \n\" style=\"fill:#dd2c45;\"/>\n    <path clip-path=\"url(#pbdbd33bf5b)\" d=\"M 184.773556 134.05395 \nL 241.912756 134.05395 \nL 241.912756 186.23955 \nL 184.773556 186.23955 \nL 184.773556 134.05395 \n\" style=\"fill:#faebdd;\"/>\n    <path clip-path=\"url(#pbdbd33bf5b)\" d=\"M 241.912756 134.05395 \nL 299.051956 134.05395 \nL 299.051956 186.23955 \nL 241.912756 186.23955 \nL 241.912756 134.05395 \n\" style=\"fill:#3c1a42;\"/>\n    <path clip-path=\"url(#pbdbd33bf5b)\" d=\"M 299.051956 134.05395 \nL 356.191156 134.05395 \nL 356.191156 186.23955 \nL 299.051956 186.23955 \nL 299.051956 134.05395 \n\" style=\"fill:#e53940;\"/>\n    <path clip-path=\"url(#pbdbd33bf5b)\" d=\"M 70.495156 186.23955 \nL 127.634356 186.23955 \nL 127.634356 238.42515 \nL 70.495156 238.42515 \nL 70.495156 186.23955 \n\" style=\"fill:#4c1d4b;\"/>\n    <path clip-path=\"url(#pbdbd33bf5b)\" d=\"M 127.634356 186.23955 \nL 184.773556 186.23955 \nL 184.773556 238.42515 \nL 127.634356 238.42515 \nL 127.634356 186.23955 \n\" style=\"fill:#03051a;\"/>\n    <path clip-path=\"url(#pbdbd33bf5b)\" d=\"M 184.773556 186.23955 \nL 241.912756 186.23955 \nL 241.912756 238.42515 \nL 184.773556 238.42515 \nL 184.773556 186.23955 \n\" style=\"fill:#3c1a42;\"/>\n    <path clip-path=\"url(#pbdbd33bf5b)\" d=\"M 241.912756 186.23955 \nL 299.051956 186.23955 \nL 299.051956 238.42515 \nL 241.912756 238.42515 \nL 241.912756 186.23955 \n\" style=\"fill:#faebdd;\"/>\n    <path clip-path=\"url(#pbdbd33bf5b)\" d=\"M 299.051956 186.23955 \nL 356.191156 186.23955 \nL 356.191156 238.42515 \nL 299.051956 238.42515 \nL 299.051956 186.23955 \n\" style=\"fill:#0b0920;\"/>\n    <path clip-path=\"url(#pbdbd33bf5b)\" d=\"M 70.495156 238.42515 \nL 127.634356 238.42515 \nL 127.634356 290.61075 \nL 70.495156 290.61075 \nL 70.495156 238.42515 \n\" style=\"fill:#f26f4c;\"/>\n    <path clip-path=\"url(#pbdbd33bf5b)\" d=\"M 127.634356 238.42515 \nL 184.773556 238.42515 \nL 184.773556 290.61075 \nL 127.634356 290.61075 \nL 127.634356 238.42515 \n\" style=\"fill:#df2f44;\"/>\n    <path clip-path=\"url(#pbdbd33bf5b)\" d=\"M 184.773556 238.42515 \nL 241.912756 238.42515 \nL 241.912756 290.61075 \nL 184.773556 290.61075 \nL 184.773556 238.42515 \n\" style=\"fill:#e53940;\"/>\n    <path clip-path=\"url(#pbdbd33bf5b)\" d=\"M 241.912756 238.42515 \nL 299.051956 238.42515 \nL 299.051956 290.61075 \nL 241.912756 290.61075 \nL 241.912756 238.42515 \n\" style=\"fill:#0b0920;\"/>\n    <path clip-path=\"url(#pbdbd33bf5b)\" d=\"M 299.051956 238.42515 \nL 356.191156 238.42515 \nL 356.191156 290.61075 \nL 299.051956 290.61075 \nL 299.051956 238.42515 \n\" style=\"fill:#faebdd;\"/>\n   </g>\n   <g id=\"text_11\">\n    <!-- Correlation Heatmap -->\n    <g style=\"fill:#262626;\" transform=\"translate(70.495156 17.68275)scale(0.144 -0.144)\">\n     <defs>\n      <path d=\"M 3397 1684 \nL 4294 1400 \nQ 4088 650 3608 286 \nQ 3128 -78 2391 -78 \nQ 1478 -78 890 545 \nQ 303 1169 303 2250 \nQ 303 3394 893 4026 \nQ 1484 4659 2447 4659 \nQ 3288 4659 3813 4163 \nQ 4125 3869 4281 3319 \nL 3366 3100 \nQ 3284 3456 3026 3662 \nQ 2769 3869 2400 3869 \nQ 1891 3869 1573 3503 \nQ 1256 3138 1256 2319 \nQ 1256 1450 1568 1081 \nQ 1881 713 2381 713 \nQ 2750 713 3015 947 \nQ 3281 1181 3397 1684 \nz\n\" id=\"Arial-BoldMT-43\" transform=\"scale(0.015625)\"/>\n      <path d=\"M 256 1706 \nQ 256 2144 472 2553 \nQ 688 2963 1083 3178 \nQ 1478 3394 1966 3394 \nQ 2719 3394 3200 2905 \nQ 3681 2416 3681 1669 \nQ 3681 916 3195 420 \nQ 2709 -75 1972 -75 \nQ 1516 -75 1102 131 \nQ 688 338 472 736 \nQ 256 1134 256 1706 \nz\nM 1156 1659 \nQ 1156 1166 1390 903 \nQ 1625 641 1969 641 \nQ 2313 641 2545 903 \nQ 2778 1166 2778 1666 \nQ 2778 2153 2545 2415 \nQ 2313 2678 1969 2678 \nQ 1625 2678 1390 2415 \nQ 1156 2153 1156 1659 \nz\n\" id=\"Arial-BoldMT-6f\" transform=\"scale(0.015625)\"/>\n      <path d=\"M 1300 0 \nL 422 0 \nL 422 3319 \nL 1238 3319 \nL 1238 2847 \nQ 1447 3181 1614 3287 \nQ 1781 3394 1994 3394 \nQ 2294 3394 2572 3228 \nL 2300 2463 \nQ 2078 2606 1888 2606 \nQ 1703 2606 1575 2504 \nQ 1447 2403 1373 2137 \nQ 1300 1872 1300 1025 \nL 1300 0 \nz\n\" id=\"Arial-BoldMT-72\" transform=\"scale(0.015625)\"/>\n      <path d=\"M 2381 1056 \nL 3256 909 \nQ 3088 428 2723 176 \nQ 2359 -75 1813 -75 \nQ 947 -75 531 491 \nQ 203 944 203 1634 \nQ 203 2459 634 2926 \nQ 1066 3394 1725 3394 \nQ 2466 3394 2894 2905 \nQ 3322 2416 3303 1406 \nL 1103 1406 \nQ 1113 1016 1316 798 \nQ 1519 581 1822 581 \nQ 2028 581 2168 693 \nQ 2309 806 2381 1056 \nz\nM 2431 1944 \nQ 2422 2325 2234 2523 \nQ 2047 2722 1778 2722 \nQ 1491 2722 1303 2513 \nQ 1116 2303 1119 1944 \nL 2431 1944 \nz\n\" id=\"Arial-BoldMT-65\" transform=\"scale(0.015625)\"/>\n      <path d=\"M 459 0 \nL 459 4581 \nL 1338 4581 \nL 1338 0 \nL 459 0 \nz\n\" id=\"Arial-BoldMT-6c\" transform=\"scale(0.015625)\"/>\n      <path d=\"M 1116 2306 \nL 319 2450 \nQ 453 2931 781 3162 \nQ 1109 3394 1756 3394 \nQ 2344 3394 2631 3255 \nQ 2919 3116 3036 2902 \nQ 3153 2688 3153 2116 \nL 3144 1091 \nQ 3144 653 3186 445 \nQ 3228 238 3344 0 \nL 2475 0 \nQ 2441 88 2391 259 \nQ 2369 338 2359 363 \nQ 2134 144 1878 34 \nQ 1622 -75 1331 -75 \nQ 819 -75 523 203 \nQ 228 481 228 906 \nQ 228 1188 362 1408 \nQ 497 1628 739 1745 \nQ 981 1863 1438 1950 \nQ 2053 2066 2291 2166 \nL 2291 2253 \nQ 2291 2506 2166 2614 \nQ 2041 2722 1694 2722 \nQ 1459 2722 1328 2630 \nQ 1197 2538 1116 2306 \nz\nM 2291 1594 \nQ 2122 1538 1756 1459 \nQ 1391 1381 1278 1306 \nQ 1106 1184 1106 997 \nQ 1106 813 1243 678 \nQ 1381 544 1594 544 \nQ 1831 544 2047 700 \nQ 2206 819 2256 991 \nQ 2291 1103 2291 1419 \nL 2291 1594 \nz\n\" id=\"Arial-BoldMT-61\" transform=\"scale(0.015625)\"/>\n      <path d=\"M 1981 3319 \nL 1981 2619 \nL 1381 2619 \nL 1381 1281 \nQ 1381 875 1398 808 \nQ 1416 741 1477 697 \nQ 1538 653 1625 653 \nQ 1747 653 1978 738 \nL 2053 56 \nQ 1747 -75 1359 -75 \nQ 1122 -75 931 4 \nQ 741 84 652 211 \nQ 563 338 528 553 \nQ 500 706 500 1172 \nL 500 2619 \nL 97 2619 \nL 97 3319 \nL 500 3319 \nL 500 3978 \nL 1381 4491 \nL 1381 3319 \nL 1981 3319 \nz\n\" id=\"Arial-BoldMT-74\" transform=\"scale(0.015625)\"/>\n      <path d=\"M 459 3769 \nL 459 4581 \nL 1338 4581 \nL 1338 3769 \nL 459 3769 \nz\nM 459 0 \nL 459 3319 \nL 1338 3319 \nL 1338 0 \nL 459 0 \nz\n\" id=\"Arial-BoldMT-69\" transform=\"scale(0.015625)\"/>\n      <path d=\"M 3478 0 \nL 2600 0 \nL 2600 1694 \nQ 2600 2231 2544 2389 \nQ 2488 2547 2361 2634 \nQ 2234 2722 2056 2722 \nQ 1828 2722 1647 2597 \nQ 1466 2472 1398 2265 \nQ 1331 2059 1331 1503 \nL 1331 0 \nL 453 0 \nL 453 3319 \nL 1269 3319 \nL 1269 2831 \nQ 1703 3394 2363 3394 \nQ 2653 3394 2893 3289 \nQ 3134 3184 3257 3021 \nQ 3381 2859 3429 2653 \nQ 3478 2447 3478 2063 \nL 3478 0 \nz\n\" id=\"Arial-BoldMT-6e\" transform=\"scale(0.015625)\"/>\n      <path id=\"Arial-BoldMT-20\" transform=\"scale(0.015625)\"/>\n      <path d=\"M 469 0 \nL 469 4581 \nL 1394 4581 \nL 1394 2778 \nL 3206 2778 \nL 3206 4581 \nL 4131 4581 \nL 4131 0 \nL 3206 0 \nL 3206 2003 \nL 1394 2003 \nL 1394 0 \nL 469 0 \nz\n\" id=\"Arial-BoldMT-48\" transform=\"scale(0.015625)\"/>\n      <path d=\"M 394 3319 \nL 1203 3319 \nL 1203 2866 \nQ 1638 3394 2238 3394 \nQ 2556 3394 2790 3262 \nQ 3025 3131 3175 2866 \nQ 3394 3131 3647 3262 \nQ 3900 3394 4188 3394 \nQ 4553 3394 4806 3245 \nQ 5059 3097 5184 2809 \nQ 5275 2597 5275 2122 \nL 5275 0 \nL 4397 0 \nL 4397 1897 \nQ 4397 2391 4306 2534 \nQ 4184 2722 3931 2722 \nQ 3747 2722 3584 2609 \nQ 3422 2497 3350 2280 \nQ 3278 2063 3278 1594 \nL 3278 0 \nL 2400 0 \nL 2400 1819 \nQ 2400 2303 2353 2443 \nQ 2306 2584 2207 2653 \nQ 2109 2722 1941 2722 \nQ 1738 2722 1575 2612 \nQ 1413 2503 1342 2297 \nQ 1272 2091 1272 1613 \nL 1272 0 \nL 394 0 \nL 394 3319 \nz\n\" id=\"Arial-BoldMT-6d\" transform=\"scale(0.015625)\"/>\n      <path d=\"M 434 3319 \nL 1253 3319 \nL 1253 2831 \nQ 1413 3081 1684 3237 \nQ 1956 3394 2288 3394 \nQ 2866 3394 3269 2941 \nQ 3672 2488 3672 1678 \nQ 3672 847 3265 386 \nQ 2859 -75 2281 -75 \nQ 2006 -75 1782 34 \nQ 1559 144 1313 409 \nL 1313 -1263 \nL 434 -1263 \nL 434 3319 \nz\nM 1303 1716 \nQ 1303 1156 1525 889 \nQ 1747 622 2066 622 \nQ 2372 622 2575 867 \nQ 2778 1113 2778 1672 \nQ 2778 2194 2568 2447 \nQ 2359 2700 2050 2700 \nQ 1728 2700 1515 2451 \nQ 1303 2203 1303 1716 \nz\n\" id=\"Arial-BoldMT-70\" transform=\"scale(0.015625)\"/>\n     </defs>\n     <use xlink:href=\"#Arial-BoldMT-43\"/>\n     <use x=\"72.216797\" xlink:href=\"#Arial-BoldMT-6f\"/>\n     <use x=\"133.300781\" xlink:href=\"#Arial-BoldMT-72\"/>\n     <use x=\"172.216797\" xlink:href=\"#Arial-BoldMT-72\"/>\n     <use x=\"211.132812\" xlink:href=\"#Arial-BoldMT-65\"/>\n     <use x=\"266.748047\" xlink:href=\"#Arial-BoldMT-6c\"/>\n     <use x=\"294.53125\" xlink:href=\"#Arial-BoldMT-61\"/>\n     <use x=\"350.146484\" xlink:href=\"#Arial-BoldMT-74\"/>\n     <use x=\"383.447266\" xlink:href=\"#Arial-BoldMT-69\"/>\n     <use x=\"411.230469\" xlink:href=\"#Arial-BoldMT-6f\"/>\n     <use x=\"472.314453\" xlink:href=\"#Arial-BoldMT-6e\"/>\n     <use x=\"533.398438\" xlink:href=\"#Arial-BoldMT-20\"/>\n     <use x=\"561.181641\" xlink:href=\"#Arial-BoldMT-48\"/>\n     <use x=\"633.398438\" xlink:href=\"#Arial-BoldMT-65\"/>\n     <use x=\"689.013672\" xlink:href=\"#Arial-BoldMT-61\"/>\n     <use x=\"744.628906\" xlink:href=\"#Arial-BoldMT-74\"/>\n     <use x=\"777.929688\" xlink:href=\"#Arial-BoldMT-6d\"/>\n     <use x=\"866.845703\" xlink:href=\"#Arial-BoldMT-61\"/>\n     <use x=\"922.460938\" xlink:href=\"#Arial-BoldMT-70\"/>\n    </g>\n   </g>\n  </g>\n  <g id=\"axes_2\">\n   <g id=\"patch_3\">\n    <path d=\"M 374.047156 290.61075 \nL 387.093556 290.61075 \nL 387.093556 29.68275 \nL 374.047156 29.68275 \nz\n\" style=\"fill:#eaeaf2;\"/>\n   </g>\n   <g id=\"patch_4\">\n    <path clip-path=\"url(#pe23fc55522)\" d=\"M 374.047156 290.61075 \nL 374.047156 289.5915 \nL 374.047156 30.702 \nL 374.047156 29.68275 \nL 387.093556 29.68275 \nL 387.093556 30.702 \nL 387.093556 289.5915 \nL 387.093556 290.61075 \nL 387.093556 290.61075 \nz\n\" style=\"fill:#eaeaf2;stroke:#eaeaf2;stroke-linejoin:miter;stroke-width:0.01;\"/>\n   </g>\n   <g id=\"matplotlib.axis_3\"/>\n   <g id=\"matplotlib.axis_4\">\n    <g id=\"ytick_6\">\n     <g id=\"line2d_1\">\n      <defs>\n       <path d=\"M 0 0 \nL 6 0 \n\" id=\"m3855554578\" style=\"stroke:#262626;stroke-width:1.25;\"/>\n      </defs>\n      <g>\n       <use style=\"fill:#262626;stroke:#262626;stroke-width:1.25;\" x=\"387.093556\" xlink:href=\"#m3855554578\" y=\"263.725072\"/>\n      </g>\n     </g>\n     <g id=\"text_12\">\n      <!-- −0.2 -->\n      <g style=\"fill:#262626;\" transform=\"translate(396.593556 267.661869)scale(0.11 -0.11)\">\n       <defs>\n        <path d=\"M 3381 1997 \nL 356 1997 \nL 356 2522 \nL 3381 2522 \nL 3381 1997 \nz\n\" id=\"ArialMT-2212\" transform=\"scale(0.015625)\"/>\n        <path d=\"M 266 2259 \nQ 266 3072 433 3567 \nQ 600 4063 929 4331 \nQ 1259 4600 1759 4600 \nQ 2128 4600 2406 4451 \nQ 2684 4303 2865 4023 \nQ 3047 3744 3150 3342 \nQ 3253 2941 3253 2259 \nQ 3253 1453 3087 958 \nQ 2922 463 2592 192 \nQ 2263 -78 1759 -78 \nQ 1097 -78 719 397 \nQ 266 969 266 2259 \nz\nM 844 2259 \nQ 844 1131 1108 757 \nQ 1372 384 1759 384 \nQ 2147 384 2411 759 \nQ 2675 1134 2675 2259 \nQ 2675 3391 2411 3762 \nQ 2147 4134 1753 4134 \nQ 1366 4134 1134 3806 \nQ 844 3388 844 2259 \nz\n\" id=\"ArialMT-30\" transform=\"scale(0.015625)\"/>\n        <path d=\"M 581 0 \nL 581 641 \nL 1222 641 \nL 1222 0 \nL 581 0 \nz\n\" id=\"ArialMT-2e\" transform=\"scale(0.015625)\"/>\n        <path d=\"M 3222 541 \nL 3222 0 \nL 194 0 \nQ 188 203 259 391 \nQ 375 700 629 1000 \nQ 884 1300 1366 1694 \nQ 2113 2306 2375 2664 \nQ 2638 3022 2638 3341 \nQ 2638 3675 2398 3904 \nQ 2159 4134 1775 4134 \nQ 1369 4134 1125 3890 \nQ 881 3647 878 3216 \nL 300 3275 \nQ 359 3922 746 4261 \nQ 1134 4600 1788 4600 \nQ 2447 4600 2831 4234 \nQ 3216 3869 3216 3328 \nQ 3216 3053 3103 2787 \nQ 2991 2522 2730 2228 \nQ 2469 1934 1863 1422 \nQ 1356 997 1212 845 \nQ 1069 694 975 541 \nL 3222 541 \nz\n\" id=\"ArialMT-32\" transform=\"scale(0.015625)\"/>\n       </defs>\n       <use xlink:href=\"#ArialMT-2212\"/>\n       <use x=\"58.398438\" xlink:href=\"#ArialMT-30\"/>\n       <use x=\"114.013672\" xlink:href=\"#ArialMT-2e\"/>\n       <use x=\"141.796875\" xlink:href=\"#ArialMT-32\"/>\n      </g>\n     </g>\n    </g>\n    <g id=\"ytick_7\">\n     <g id=\"line2d_2\">\n      <g>\n       <use style=\"fill:#262626;stroke:#262626;stroke-width:1.25;\" x=\"387.093556\" xlink:href=\"#m3855554578\" y=\"224.718019\"/>\n      </g>\n     </g>\n     <g id=\"text_13\">\n      <!-- 0.0 -->\n      <g style=\"fill:#262626;\" transform=\"translate(396.593556 228.654815)scale(0.11 -0.11)\">\n       <use xlink:href=\"#ArialMT-30\"/>\n       <use x=\"55.615234\" xlink:href=\"#ArialMT-2e\"/>\n       <use x=\"83.398438\" xlink:href=\"#ArialMT-30\"/>\n      </g>\n     </g>\n    </g>\n    <g id=\"ytick_8\">\n     <g id=\"line2d_3\">\n      <g>\n       <use style=\"fill:#262626;stroke:#262626;stroke-width:1.25;\" x=\"387.093556\" xlink:href=\"#m3855554578\" y=\"185.710965\"/>\n      </g>\n     </g>\n     <g id=\"text_14\">\n      <!-- 0.2 -->\n      <g style=\"fill:#262626;\" transform=\"translate(396.593556 189.647762)scale(0.11 -0.11)\">\n       <use xlink:href=\"#ArialMT-30\"/>\n       <use x=\"55.615234\" xlink:href=\"#ArialMT-2e\"/>\n       <use x=\"83.398438\" xlink:href=\"#ArialMT-32\"/>\n      </g>\n     </g>\n    </g>\n    <g id=\"ytick_9\">\n     <g id=\"line2d_4\">\n      <g>\n       <use style=\"fill:#262626;stroke:#262626;stroke-width:1.25;\" x=\"387.093556\" xlink:href=\"#m3855554578\" y=\"146.703911\"/>\n      </g>\n     </g>\n     <g id=\"text_15\">\n      <!-- 0.4 -->\n      <g style=\"fill:#262626;\" transform=\"translate(396.593556 150.640708)scale(0.11 -0.11)\">\n       <defs>\n        <path d=\"M 2069 0 \nL 2069 1097 \nL 81 1097 \nL 81 1613 \nL 2172 4581 \nL 2631 4581 \nL 2631 1613 \nL 3250 1613 \nL 3250 1097 \nL 2631 1097 \nL 2631 0 \nL 2069 0 \nz\nM 2069 1613 \nL 2069 3678 \nL 634 1613 \nL 2069 1613 \nz\n\" id=\"ArialMT-34\" transform=\"scale(0.015625)\"/>\n       </defs>\n       <use xlink:href=\"#ArialMT-30\"/>\n       <use x=\"55.615234\" xlink:href=\"#ArialMT-2e\"/>\n       <use x=\"83.398438\" xlink:href=\"#ArialMT-34\"/>\n      </g>\n     </g>\n    </g>\n    <g id=\"ytick_10\">\n     <g id=\"line2d_5\">\n      <g>\n       <use style=\"fill:#262626;stroke:#262626;stroke-width:1.25;\" x=\"387.093556\" xlink:href=\"#m3855554578\" y=\"107.696857\"/>\n      </g>\n     </g>\n     <g id=\"text_16\">\n      <!-- 0.6 -->\n      <g style=\"fill:#262626;\" transform=\"translate(396.593556 111.633654)scale(0.11 -0.11)\">\n       <defs>\n        <path d=\"M 3184 3459 \nL 2625 3416 \nQ 2550 3747 2413 3897 \nQ 2184 4138 1850 4138 \nQ 1581 4138 1378 3988 \nQ 1113 3794 959 3422 \nQ 806 3050 800 2363 \nQ 1003 2672 1297 2822 \nQ 1591 2972 1913 2972 \nQ 2475 2972 2870 2558 \nQ 3266 2144 3266 1488 \nQ 3266 1056 3080 686 \nQ 2894 316 2569 119 \nQ 2244 -78 1831 -78 \nQ 1128 -78 684 439 \nQ 241 956 241 2144 \nQ 241 3472 731 4075 \nQ 1159 4600 1884 4600 \nQ 2425 4600 2770 4297 \nQ 3116 3994 3184 3459 \nz\nM 888 1484 \nQ 888 1194 1011 928 \nQ 1134 663 1356 523 \nQ 1578 384 1822 384 \nQ 2178 384 2434 671 \nQ 2691 959 2691 1453 \nQ 2691 1928 2437 2201 \nQ 2184 2475 1800 2475 \nQ 1419 2475 1153 2201 \nQ 888 1928 888 1484 \nz\n\" id=\"ArialMT-36\" transform=\"scale(0.015625)\"/>\n       </defs>\n       <use xlink:href=\"#ArialMT-30\"/>\n       <use x=\"55.615234\" xlink:href=\"#ArialMT-2e\"/>\n       <use x=\"83.398438\" xlink:href=\"#ArialMT-36\"/>\n      </g>\n     </g>\n    </g>\n    <g id=\"ytick_11\">\n     <g id=\"line2d_6\">\n      <g>\n       <use style=\"fill:#262626;stroke:#262626;stroke-width:1.25;\" x=\"387.093556\" xlink:href=\"#m3855554578\" y=\"68.689804\"/>\n      </g>\n     </g>\n     <g id=\"text_17\">\n      <!-- 0.8 -->\n      <g style=\"fill:#262626;\" transform=\"translate(396.593556 72.626601)scale(0.11 -0.11)\">\n       <defs>\n        <path d=\"M 1131 2484 \nQ 781 2613 612 2850 \nQ 444 3088 444 3419 \nQ 444 3919 803 4259 \nQ 1163 4600 1759 4600 \nQ 2359 4600 2725 4251 \nQ 3091 3903 3091 3403 \nQ 3091 3084 2923 2848 \nQ 2756 2613 2416 2484 \nQ 2838 2347 3058 2040 \nQ 3278 1734 3278 1309 \nQ 3278 722 2862 322 \nQ 2447 -78 1769 -78 \nQ 1091 -78 675 323 \nQ 259 725 259 1325 \nQ 259 1772 486 2073 \nQ 713 2375 1131 2484 \nz\nM 1019 3438 \nQ 1019 3113 1228 2906 \nQ 1438 2700 1772 2700 \nQ 2097 2700 2305 2904 \nQ 2513 3109 2513 3406 \nQ 2513 3716 2298 3927 \nQ 2084 4138 1766 4138 \nQ 1444 4138 1231 3931 \nQ 1019 3725 1019 3438 \nz\nM 838 1322 \nQ 838 1081 952 856 \nQ 1066 631 1291 507 \nQ 1516 384 1775 384 \nQ 2178 384 2440 643 \nQ 2703 903 2703 1303 \nQ 2703 1709 2433 1975 \nQ 2163 2241 1756 2241 \nQ 1359 2241 1098 1978 \nQ 838 1716 838 1322 \nz\n\" id=\"ArialMT-38\" transform=\"scale(0.015625)\"/>\n       </defs>\n       <use xlink:href=\"#ArialMT-30\"/>\n       <use x=\"55.615234\" xlink:href=\"#ArialMT-2e\"/>\n       <use x=\"83.398438\" xlink:href=\"#ArialMT-38\"/>\n      </g>\n     </g>\n    </g>\n    <g id=\"ytick_12\">\n     <g id=\"line2d_7\">\n      <g>\n       <use style=\"fill:#262626;stroke:#262626;stroke-width:1.25;\" x=\"387.093556\" xlink:href=\"#m3855554578\" y=\"29.68275\"/>\n      </g>\n     </g>\n     <g id=\"text_18\">\n      <!-- 1.0 -->\n      <g style=\"fill:#262626;\" transform=\"translate(396.593556 33.619547)scale(0.11 -0.11)\">\n       <defs>\n        <path d=\"M 2384 0 \nL 1822 0 \nL 1822 3584 \nQ 1619 3391 1289 3197 \nQ 959 3003 697 2906 \nL 697 3450 \nQ 1169 3672 1522 3987 \nQ 1875 4303 2022 4600 \nL 2384 4600 \nL 2384 0 \nz\n\" id=\"ArialMT-31\" transform=\"scale(0.015625)\"/>\n       </defs>\n       <use xlink:href=\"#ArialMT-31\"/>\n       <use x=\"55.615234\" xlink:href=\"#ArialMT-2e\"/>\n       <use x=\"83.398438\" xlink:href=\"#ArialMT-30\"/>\n      </g>\n     </g>\n    </g>\n   </g>\n   <image height=\"260.88\" id=\"imagefe6606b20e\" transform=\"scale(1 -1)translate(0 -260.88)\" width=\"12.96\" x=\"374.16\" xlink:href=\"data:image/png;base64,\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\" y=\"-29.52\"/>\n   <g id=\"LineCollection_1\"/>\n   <g id=\"patch_5\">\n    <path d=\"M 374.047156 290.61075 \nL 374.047156 289.5915 \nL 374.047156 30.702 \nL 374.047156 29.68275 \nL 387.093556 29.68275 \nL 387.093556 30.702 \nL 387.093556 289.5915 \nL 387.093556 290.61075 \nz\n\" style=\"fill:none;\"/>\n   </g>\n  </g>\n </g>\n <defs>\n  <clipPath id=\"pbdbd33bf5b\">\n   <rect height=\"260.928\" width=\"285.696\" x=\"70.495156\" y=\"29.68275\"/>\n  </clipPath>\n  <clipPath id=\"pe23fc55522\">\n   <rect height=\"260.928\" width=\"13.0464\" x=\"374.047156\" y=\"29.68275\"/>\n  </clipPath>\n </defs>\n</svg>\n",
      "text/plain": [
       "<Figure size 1920x1440 with 2 Axes>"
      ]
     },
     "metadata": {},
     "output_type": "display_data"
    }
   ],
   "source": [
    "# cosmetic options\n",
    "set_matplotlib_formats(\"svg\")\n",
    "rc = {\"figure.figsize\": (6.4, 4.8),\n",
    "      \"figure.dpi\": 300,\n",
    "      \"axes.titlesize\": \"large\",\n",
    "      \"axes.titleweight\": \"bold\",\n",
    "      \"axes.titlepad\": 12,\n",
    "      \"axes.titlelocation\": \"left\"}\n",
    "sns.set_theme(context=\"notebook\", style=\"darkgrid\", color_codes=True, rc=rc)\n",
    "\n",
    "corr_heatmap = sns.heatmap(data=df.corr(method=\"pearson\")).set_title(\"Correlation Heatmap\")"
   ]
  },
  {
   "cell_type": "code",
   "execution_count": 32,
   "metadata": {},
   "outputs": [
    {
     "data": {
      "text/html": [
       "<div>\n",
       "<style scoped>\n",
       "    .dataframe tbody tr th:only-of-type {\n",
       "        vertical-align: middle;\n",
       "    }\n",
       "\n",
       "    .dataframe tbody tr th {\n",
       "        vertical-align: top;\n",
       "    }\n",
       "\n",
       "    .dataframe thead th {\n",
       "        text-align: right;\n",
       "    }\n",
       "</style>\n",
       "<table border=\"1\" class=\"dataframe\">\n",
       "  <thead>\n",
       "    <tr style=\"text-align: right;\">\n",
       "      <th></th>\n",
       "      <th>Ticker</th>\n",
       "      <th>Name</th>\n",
       "      <th>Region</th>\n",
       "      <th>Country</th>\n",
       "      <th>Sector</th>\n",
       "      <th>Industry</th>\n",
       "      <th>SubInd</th>\n",
       "      <th>Scr_Blmbg</th>\n",
       "      <th>Scr_MSCI</th>\n",
       "      <th>Scr_ESGS</th>\n",
       "      <th>Scr_SERS</th>\n",
       "      <th>Scr_S_P</th>\n",
       "    </tr>\n",
       "  </thead>\n",
       "  <tbody>\n",
       "    <tr>\n",
       "      <th>0</th>\n",
       "      <td>TER CN Equity</td>\n",
       "      <td>TERRASCEND CORP</td>\n",
       "      <td>NorthAmeric</td>\n",
       "      <td>Canada</td>\n",
       "      <td>Health Care</td>\n",
       "      <td>Pharmaceuticals</td>\n",
       "      <td>Pharmaceuticals</td>\n",
       "      <td>8.2645</td>\n",
       "      <td>NaN</td>\n",
       "      <td>NaN</td>\n",
       "      <td>NaN</td>\n",
       "      <td>NaN</td>\n",
       "    </tr>\n",
       "    <tr>\n",
       "      <th>1</th>\n",
       "      <td>CL CN Equity</td>\n",
       "      <td>CRESCO LABS INC-SUBORDINATE</td>\n",
       "      <td>NorthAmeric</td>\n",
       "      <td>United States</td>\n",
       "      <td>Health Care</td>\n",
       "      <td>Pharmaceuticals</td>\n",
       "      <td>Pharmaceuticals</td>\n",
       "      <td>9.5041</td>\n",
       "      <td>NaN</td>\n",
       "      <td>NaN</td>\n",
       "      <td>NaN</td>\n",
       "      <td>NaN</td>\n",
       "    </tr>\n",
       "    <tr>\n",
       "      <th>2</th>\n",
       "      <td>FMBL US Equity</td>\n",
       "      <td>FARMERS &amp; MERCHANTS BANK/CA</td>\n",
       "      <td>NorthAmeric</td>\n",
       "      <td>United States</td>\n",
       "      <td>Financials</td>\n",
       "      <td>Banks</td>\n",
       "      <td>Regional Banks</td>\n",
       "      <td>10.9649</td>\n",
       "      <td>NaN</td>\n",
       "      <td>NaN</td>\n",
       "      <td>NaN</td>\n",
       "      <td>NaN</td>\n",
       "    </tr>\n",
       "    <tr>\n",
       "      <th>3</th>\n",
       "      <td>LIND US Equity</td>\n",
       "      <td>LINDBLAD EXPEDITIONS HOLDING</td>\n",
       "      <td>NorthAmeric</td>\n",
       "      <td>United States</td>\n",
       "      <td>Consumer Discretionary</td>\n",
       "      <td>Hotels, Restaurants &amp; Leisure</td>\n",
       "      <td>Hotels, Resorts &amp; Cruise Lines</td>\n",
       "      <td>12.3967</td>\n",
       "      <td>NaN</td>\n",
       "      <td>NaN</td>\n",
       "      <td>NaN</td>\n",
       "      <td>NaN</td>\n",
       "    </tr>\n",
       "    <tr>\n",
       "      <th>4</th>\n",
       "      <td>UI US Equity</td>\n",
       "      <td>UBIQUITI INC</td>\n",
       "      <td>NorthAmeric</td>\n",
       "      <td>United States</td>\n",
       "      <td>Information Technology</td>\n",
       "      <td>Communications Equipment</td>\n",
       "      <td>Communications Equipment</td>\n",
       "      <td>12.8099</td>\n",
       "      <td>NaN</td>\n",
       "      <td>NaN</td>\n",
       "      <td>NaN</td>\n",
       "      <td>31.0</td>\n",
       "    </tr>\n",
       "  </tbody>\n",
       "</table>\n",
       "</div>"
      ],
      "text/plain": [
       "           Ticker                          Name       Region        Country  \\\n",
       "0   TER CN Equity               TERRASCEND CORP  NorthAmeric         Canada   \n",
       "1    CL CN Equity   CRESCO LABS INC-SUBORDINATE  NorthAmeric  United States   \n",
       "2  FMBL US Equity   FARMERS & MERCHANTS BANK/CA  NorthAmeric  United States   \n",
       "3  LIND US Equity  LINDBLAD EXPEDITIONS HOLDING  NorthAmeric  United States   \n",
       "4    UI US Equity                  UBIQUITI INC  NorthAmeric  United States   \n",
       "\n",
       "                   Sector                       Industry  \\\n",
       "0             Health Care                Pharmaceuticals   \n",
       "1             Health Care                Pharmaceuticals   \n",
       "2              Financials                          Banks   \n",
       "3  Consumer Discretionary  Hotels, Restaurants & Leisure   \n",
       "4  Information Technology       Communications Equipment   \n",
       "\n",
       "                           SubInd  Scr_Blmbg  Scr_MSCI  Scr_ESGS  Scr_SERS  \\\n",
       "0                 Pharmaceuticals     8.2645       NaN       NaN       NaN   \n",
       "1                 Pharmaceuticals     9.5041       NaN       NaN       NaN   \n",
       "2                  Regional Banks    10.9649       NaN       NaN       NaN   \n",
       "3  Hotels, Resorts & Cruise Lines    12.3967       NaN       NaN       NaN   \n",
       "4        Communications Equipment    12.8099       NaN       NaN       NaN   \n",
       "\n",
       "   Scr_S_P  \n",
       "0      NaN  \n",
       "1      NaN  \n",
       "2      NaN  \n",
       "3      NaN  \n",
       "4     31.0  "
      ]
     },
     "execution_count": 32,
     "metadata": {},
     "output_type": "execute_result"
    }
   ],
   "source": [
    "df.head()"
   ]
  },
  {
   "cell_type": "markdown",
   "metadata": {},
   "source": [
    "# **3.Modeling**"
   ]
  },
  {
   "cell_type": "code",
   "execution_count": 33,
   "metadata": {},
   "outputs": [
    {
     "data": {
      "text/html": [
       "<div>\n",
       "<style scoped>\n",
       "    .dataframe tbody tr th:only-of-type {\n",
       "        vertical-align: middle;\n",
       "    }\n",
       "\n",
       "    .dataframe tbody tr th {\n",
       "        vertical-align: top;\n",
       "    }\n",
       "\n",
       "    .dataframe thead th {\n",
       "        text-align: right;\n",
       "    }\n",
       "</style>\n",
       "<table border=\"1\" class=\"dataframe\">\n",
       "  <thead>\n",
       "    <tr style=\"text-align: right;\">\n",
       "      <th></th>\n",
       "      <th>Scr_Blmbg</th>\n",
       "      <th>Scr_MSCI</th>\n",
       "      <th>Scr_ESGS</th>\n",
       "      <th>Scr_SERS</th>\n",
       "      <th>Scr_S_P</th>\n",
       "      <th>0left</th>\n",
       "      <th>1left</th>\n",
       "      <th>2left</th>\n",
       "      <th>0right</th>\n",
       "      <th>1right</th>\n",
       "      <th>2right</th>\n",
       "      <th>3</th>\n",
       "      <th>4</th>\n",
       "      <th>5</th>\n",
       "      <th>6</th>\n",
       "      <th>7</th>\n",
       "      <th>8</th>\n",
       "      <th>9</th>\n",
       "      <th>10</th>\n",
       "    </tr>\n",
       "  </thead>\n",
       "  <tbody>\n",
       "    <tr>\n",
       "      <th>61</th>\n",
       "      <td>18.1818</td>\n",
       "      <td>0.0</td>\n",
       "      <td>NaN</td>\n",
       "      <td>28.4424</td>\n",
       "      <td>10.0</td>\n",
       "      <td>0.0</td>\n",
       "      <td>0.0</td>\n",
       "      <td>1.0</td>\n",
       "      <td>0.0</td>\n",
       "      <td>0.0</td>\n",
       "      <td>0.0</td>\n",
       "      <td>0.0</td>\n",
       "      <td>0.0</td>\n",
       "      <td>0.0</td>\n",
       "      <td>1.0</td>\n",
       "      <td>0.0</td>\n",
       "      <td>0.0</td>\n",
       "      <td>0.0</td>\n",
       "      <td>0.0</td>\n",
       "    </tr>\n",
       "    <tr>\n",
       "      <th>77</th>\n",
       "      <td>19.4215</td>\n",
       "      <td>1.0</td>\n",
       "      <td>NaN</td>\n",
       "      <td>17.6910</td>\n",
       "      <td>58.0</td>\n",
       "      <td>0.0</td>\n",
       "      <td>0.0</td>\n",
       "      <td>1.0</td>\n",
       "      <td>0.0</td>\n",
       "      <td>0.0</td>\n",
       "      <td>0.0</td>\n",
       "      <td>0.0</td>\n",
       "      <td>0.0</td>\n",
       "      <td>0.0</td>\n",
       "      <td>0.0</td>\n",
       "      <td>0.0</td>\n",
       "      <td>0.0</td>\n",
       "      <td>1.0</td>\n",
       "      <td>0.0</td>\n",
       "    </tr>\n",
       "    <tr>\n",
       "      <th>102</th>\n",
       "      <td>23.1405</td>\n",
       "      <td>0.0</td>\n",
       "      <td>NaN</td>\n",
       "      <td>16.7001</td>\n",
       "      <td>21.0</td>\n",
       "      <td>0.0</td>\n",
       "      <td>0.0</td>\n",
       "      <td>1.0</td>\n",
       "      <td>0.0</td>\n",
       "      <td>0.0</td>\n",
       "      <td>1.0</td>\n",
       "      <td>0.0</td>\n",
       "      <td>0.0</td>\n",
       "      <td>0.0</td>\n",
       "      <td>0.0</td>\n",
       "      <td>0.0</td>\n",
       "      <td>0.0</td>\n",
       "      <td>0.0</td>\n",
       "      <td>0.0</td>\n",
       "    </tr>\n",
       "    <tr>\n",
       "      <th>115</th>\n",
       "      <td>26.9490</td>\n",
       "      <td>1.0</td>\n",
       "      <td>NaN</td>\n",
       "      <td>22.9152</td>\n",
       "      <td>12.0</td>\n",
       "      <td>0.0</td>\n",
       "      <td>0.0</td>\n",
       "      <td>1.0</td>\n",
       "      <td>0.0</td>\n",
       "      <td>0.0</td>\n",
       "      <td>0.0</td>\n",
       "      <td>1.0</td>\n",
       "      <td>0.0</td>\n",
       "      <td>0.0</td>\n",
       "      <td>0.0</td>\n",
       "      <td>0.0</td>\n",
       "      <td>0.0</td>\n",
       "      <td>0.0</td>\n",
       "      <td>0.0</td>\n",
       "    </tr>\n",
       "    <tr>\n",
       "      <th>123</th>\n",
       "      <td>29.3388</td>\n",
       "      <td>1.0</td>\n",
       "      <td>NaN</td>\n",
       "      <td>19.5513</td>\n",
       "      <td>76.0</td>\n",
       "      <td>0.0</td>\n",
       "      <td>0.0</td>\n",
       "      <td>1.0</td>\n",
       "      <td>0.0</td>\n",
       "      <td>0.0</td>\n",
       "      <td>0.0</td>\n",
       "      <td>0.0</td>\n",
       "      <td>0.0</td>\n",
       "      <td>0.0</td>\n",
       "      <td>0.0</td>\n",
       "      <td>0.0</td>\n",
       "      <td>0.0</td>\n",
       "      <td>1.0</td>\n",
       "      <td>0.0</td>\n",
       "    </tr>\n",
       "  </tbody>\n",
       "</table>\n",
       "</div>"
      ],
      "text/plain": [
       "     Scr_Blmbg  Scr_MSCI  Scr_ESGS  Scr_SERS  Scr_S_P  0left  1left  2left  \\\n",
       "61     18.1818       0.0       NaN   28.4424     10.0    0.0    0.0    1.0   \n",
       "77     19.4215       1.0       NaN   17.6910     58.0    0.0    0.0    1.0   \n",
       "102    23.1405       0.0       NaN   16.7001     21.0    0.0    0.0    1.0   \n",
       "115    26.9490       1.0       NaN   22.9152     12.0    0.0    0.0    1.0   \n",
       "123    29.3388       1.0       NaN   19.5513     76.0    0.0    0.0    1.0   \n",
       "\n",
       "     0right  1right  2right    3    4    5    6    7    8    9   10  \n",
       "61      0.0     0.0     0.0  0.0  0.0  0.0  1.0  0.0  0.0  0.0  0.0  \n",
       "77      0.0     0.0     0.0  0.0  0.0  0.0  0.0  0.0  0.0  1.0  0.0  \n",
       "102     0.0     0.0     1.0  0.0  0.0  0.0  0.0  0.0  0.0  0.0  0.0  \n",
       "115     0.0     0.0     0.0  1.0  0.0  0.0  0.0  0.0  0.0  0.0  0.0  \n",
       "123     0.0     0.0     0.0  0.0  0.0  0.0  0.0  0.0  0.0  1.0  0.0  "
      ]
     },
     "execution_count": 33,
     "metadata": {},
     "output_type": "execute_result"
    }
   ],
   "source": [
    "def data_process(df, col_to_drop, ft_to_ohe, build_classifier=False):\n",
    "    # Drop useless features\n",
    "    df = df.drop(col_to_drop, axis=1)\n",
    "    \n",
    "    # If wanna build a classifier based on MSCI classes, then run theblock:\n",
    "    if build_classifier:\n",
    "        # Hard labeling MCSI rating levels into 1/0 classes\n",
    "        MSCI_map = {7.0:1, 6.0:1, 5.0:1, 4.0:0, 3.0:0, 2.0:0, 1.0:0}\n",
    "        df[\"Scr_MSCI\"] = df[\"Scr_MSCI\"].replace(MSCI_map)\n",
    "        df = df.dropna(subset=[\"Scr_MSCI\"])\n",
    "        # display(df[\"Scr_MSCI\"].value_counts(), df[\"Scr_MSCI\"].sum())  ### Sanity check\n",
    "    \n",
    "    # One-Hot-Encode categorical features, need  \n",
    "    for feature in ft_to_ohe:\n",
    "        ohe= OneHotEncoder(handle_unknown='ignore')\n",
    "        ohe_df = pd.DataFrame(ohe.fit_transform(df[[feature]]).toarray())\n",
    "        df = df.join(ohe_df, how='left', lsuffix='left', rsuffix='right')\n",
    "        df.drop(columns=[feature], inplace=True)\n",
    "    \n",
    "    # Normalization of the scores\n",
    "    \n",
    "    return df\n",
    "\n",
    "\n",
    "col_to_drop = [\"Ticker\", \"Name\", \"Country\", \"Industry\", \"SubInd\"]\n",
    "ft_to_ohe = [\"Region\", \"Sector\"]\n",
    "df2 = data_process(df, \n",
    "                   col_to_drop=col_to_drop,\n",
    "                   build_classifier=True,\n",
    "                   ft_to_ohe = ft_to_ohe)\n",
    "df2.head()"
   ]
  },
  {
   "cell_type": "code",
   "execution_count": null,
   "metadata": {},
   "outputs": [],
   "source": [
    "# Sanity check of the results of One-Hot-Encoding:\n",
    "# display(df[\"Region\"].value_counts())\n",
    "# display(df[\"Sector\"].value_counts())\n",
    "# print(df2[3].sum(), df2[4].sum(), df2[\"0right\"].sum())"
   ]
  },
  {
   "cell_type": "code",
   "execution_count": 34,
   "metadata": {},
   "outputs": [
    {
     "data": {
      "text/plain": [
       "(2135, 19)"
      ]
     },
     "execution_count": 34,
     "metadata": {},
     "output_type": "execute_result"
    }
   ],
   "source": [
    "df2.shape"
   ]
  },
  {
   "cell_type": "code",
   "execution_count": 38,
   "metadata": {},
   "outputs": [
    {
     "data": {
      "text/plain": [
       "((1494, 18), (641, 18))"
      ]
     },
     "execution_count": 38,
     "metadata": {},
     "output_type": "execute_result"
    }
   ],
   "source": [
    "# Putting feature variables to X\n",
    "X = df2.drop(\"Scr_MSCI\",axis=1)\n",
    "# Putting response variable to y\n",
    "y = df2[\"Scr_MSCI\"]\n",
    "\n",
    "from sklearn.model_selection import train_test_split\n",
    "from sklearn.ensemble import RandomForestClassifier\n",
    "from sklearn.metrics import accuracy_score, confusion_matrix, classification_report\n",
    "\n",
    "X_train, X_test, y_train, y_test = train_test_split(X, y, train_size=0.7, random_state=42)\n",
    "X_train.shape, X_test.shape"
   ]
  },
  {
   "cell_type": "code",
   "execution_count": null,
   "metadata": {},
   "outputs": [],
   "source": [
    "\n",
    "classifier_rf = RandomForestClassifier(random_state=42, n_jobs=-1, max_depth=5,\n",
    "                                       n_estimators=100, oob_score=True)\n",
    "classifier_rf.fit(X_train, y_train)\n",
    "y_pred_test = classifier_rf.predict(X_test)\n",
    "accuracy_score(y_test, y_pred_test)"
   ]
  }
 ],
 "metadata": {
  "interpreter": {
   "hash": "aee8b7b246df8f9039afb4144a1f6fd8d2ca17a180786b69acc140d282b71a49"
  },
  "kernelspec": {
   "display_name": "Python 3.9.1 64-bit",
   "language": "python",
   "name": "python3"
  },
  "language_info": {
   "codemirror_mode": {
    "name": "ipython",
    "version": 3
   },
   "file_extension": ".py",
   "mimetype": "text/x-python",
   "name": "python",
   "nbconvert_exporter": "python",
   "pygments_lexer": "ipython3",
   "version": "3.9.1"
  },
  "orig_nbformat": 4
 },
 "nbformat": 4,
 "nbformat_minor": 2
}
